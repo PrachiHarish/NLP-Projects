{
  "nbformat": 4,
  "nbformat_minor": 0,
  "metadata": {
    "colab": {
      "provenance": [],
      "gpuType": "T4",
      "include_colab_link": true
    },
    "kernelspec": {
      "name": "python3",
      "display_name": "Python 3"
    },
    "language_info": {
      "name": "python"
    },
    "accelerator": "GPU"
  },
  "cells": [
    {
      "cell_type": "markdown",
      "metadata": {
        "id": "view-in-github",
        "colab_type": "text"
      },
      "source": [
        "<a href=\"https://colab.research.google.com/github/PrachiHarish/NLP-Projects/blob/main/Copy_of_Sentiment_analysis_tweet.ipynb\" target=\"_parent\"><img src=\"https://colab.research.google.com/assets/colab-badge.svg\" alt=\"Open In Colab\"/></a>"
      ]
    },
    {
      "cell_type": "code",
      "execution_count": null,
      "metadata": {
        "id": "y85FFJ2Qdi_l"
      },
      "outputs": [],
      "source": [
        "import numpy as np\n",
        "import pandas as pd\n",
        "\n",
        "from sklearn.feature_extraction.text import CountVectorizer\n",
        "from keras.preprocessing.text import Tokenizer\n",
        "from keras.models import Sequential,Model\n",
        "from keras.layers import*\n",
        "from sklearn.model_selection import train_test_split\n",
        "from keras.utils.np_utils import to_categorical\n",
        "import re\n",
        "import string\n",
        "import matplotlib.pyplot as plt"
      ]
    },
    {
      "cell_type": "code",
      "source": [
        "import nltk\n",
        "nltk.download('punkt')\n",
        "import nltk\n",
        "nltk.download('stopwords')\n",
        "stopwords = nltk.corpus.stopwords.words('english')\n",
        "import nltk\n",
        "nltk.download('words')\n",
        "import nltk\n",
        "nltk.download('wordnet')\n",
        "words = set(nltk.corpus.words.words())"
      ],
      "metadata": {
        "colab": {
          "base_uri": "https://localhost:8080/"
        },
        "id": "XeUUGTwCp3h3",
        "outputId": "01b17a21-83bf-451b-e4c1-4b037c04fb94"
      },
      "execution_count": null,
      "outputs": [
        {
          "output_type": "stream",
          "name": "stderr",
          "text": [
            "[nltk_data] Downloading package punkt to /root/nltk_data...\n",
            "[nltk_data]   Unzipping tokenizers/punkt.zip.\n",
            "[nltk_data] Downloading package stopwords to /root/nltk_data...\n",
            "[nltk_data]   Unzipping corpora/stopwords.zip.\n",
            "[nltk_data] Downloading package words to /root/nltk_data...\n",
            "[nltk_data]   Unzipping corpora/words.zip.\n",
            "[nltk_data] Downloading package wordnet to /root/nltk_data...\n"
          ]
        }
      ]
    },
    {
      "cell_type": "code",
      "source": [
        "pip; install;\"pad-sequences>=0.6.0\""
      ],
      "metadata": {
        "colab": {
          "base_uri": "https://localhost:8080/"
        },
        "id": "4sPtllPFd4Nr",
        "outputId": "ab983bdb-580a-4a47-81d5-aac3ca5c3c30"
      },
      "execution_count": null,
      "outputs": [
        {
          "output_type": "stream",
          "name": "stdout",
          "text": [
            "\n",
            "Usage:   \n",
            "  pip3 <command> [options]\n",
            "\n",
            "Commands:\n",
            "  install                     Install packages.\n",
            "  download                    Download packages.\n",
            "  uninstall                   Uninstall packages.\n",
            "  freeze                      Output installed packages in requirements format.\n",
            "  inspect                     Inspect the python environment.\n",
            "  list                        List installed packages.\n",
            "  show                        Show information about installed packages.\n",
            "  check                       Verify installed packages have compatible dependencies.\n",
            "  config                      Manage local and global configuration.\n",
            "  search                      Search PyPI for packages.\n",
            "  cache                       Inspect and manage pip's wheel cache.\n",
            "  index                       Inspect information available from package indexes.\n",
            "  wheel                       Build wheels from your requirements.\n",
            "  hash                        Compute hashes of package archives.\n",
            "  completion                  A helper command used for command completion.\n",
            "  debug                       Show information useful for debugging.\n",
            "  help                        Show help for commands.\n",
            "\n",
            "General Options:\n",
            "  -h, --help\n",
            "  Show help.\n",
            "  --debug\n",
            "  Let\n",
            "  unhandled\n",
            "  exceptions\n",
            "  propagate\n",
            "  outside the\n",
            "  main\n",
            "  subroutine,\n",
            "  instead of\n",
            "  logging\n",
            "  them to\n",
            "  stderr.\n",
            "  --isolated\n",
            "  Run pip in\n",
            "  an isolated\n",
            "  mode,\n",
            "  ignoring\n",
            "  environment\n",
            "  variables\n",
            "  and user co\n",
            "  nfiguration\n",
            "  .\n",
            "  --require-virtualenv\n",
            "  Allow pip\n",
            "  to only run\n",
            "  in a\n",
            "  virtual env\n",
            "  ironment;\n",
            "  exit with\n",
            "  an error\n",
            "  otherwise.\n",
            "  --python <python>\n",
            "  Run pip\n",
            "  with the\n",
            "  specified\n",
            "  Python inte\n",
            "  rpreter.\n",
            "  -v, --verbose\n",
            "  Give more\n",
            "  output.\n",
            "  Option is\n",
            "  additive,\n",
            "  and can be\n",
            "  used up to\n",
            "  3 times.\n",
            "  -V, --version\n",
            "  Show\n",
            "  version and\n",
            "  exit.\n",
            "  -q, --quiet\n",
            "  Give less\n",
            "  output.\n",
            "  Option is\n",
            "  additive,\n",
            "  and can be\n",
            "  used up to\n",
            "  3 times (co\n",
            "  rresponding\n",
            "  to WARNING,\n",
            "  ERROR, and\n",
            "  CRITICAL\n",
            "  logging\n",
            "  levels).\n",
            "  --log <path>\n",
            "  Path to a\n",
            "  verbose\n",
            "  appending\n",
            "  log.\n",
            "  --no-input\n",
            "  Disable\n",
            "  prompting\n",
            "  for input.\n",
            "  --keyring-provider <keyring_provider>\n",
            "  Enable the\n",
            "  credential\n",
            "  lookup via\n",
            "  the keyring\n",
            "  library if\n",
            "  user input\n",
            "  is allowed.\n",
            "  Specify\n",
            "  which\n",
            "  mechanism\n",
            "  to use\n",
            "  [disabled,\n",
            "  import, sub\n",
            "  process].\n",
            "  (default:\n",
            "  disabled)\n",
            "  --proxy <proxy>\n",
            "  Specify a\n",
            "  proxy in\n",
            "  the form sc\n",
            "  heme://[use\n",
            "  r:passwd@]p\n",
            "  roxy.server\n",
            "  :port.\n",
            "  --retries <retries>\n",
            "  Maximum\n",
            "  number of\n",
            "  retries\n",
            "  each\n",
            "  connection\n",
            "  should\n",
            "  attempt\n",
            "  (default 5\n",
            "  times).\n",
            "  --timeout <sec>\n",
            "  Set the\n",
            "  socket\n",
            "  timeout\n",
            "  (default 15\n",
            "  seconds).\n",
            "  --exists-action <action>\n",
            "  Default\n",
            "  action when\n",
            "  a path\n",
            "  already\n",
            "  exists:\n",
            "  (s)witch,\n",
            "  (i)gnore,\n",
            "  (w)ipe,\n",
            "  (b)ackup,\n",
            "  (a)bort.\n",
            "  --trusted-host <hostname>\n",
            "  Mark this\n",
            "  host or\n",
            "  host:port\n",
            "  pair as\n",
            "  trusted,\n",
            "  even though\n",
            "  it does not\n",
            "  have valid\n",
            "  or any\n",
            "  HTTPS.\n",
            "  --cert <path>\n",
            "  Path to\n",
            "  PEM-encoded\n",
            "  CA\n",
            "  certificate\n",
            "  bundle. If\n",
            "  provided,\n",
            "  overrides\n",
            "  the\n",
            "  default.\n",
            "  See 'SSL\n",
            "  Certificate\n",
            "  Verificatio\n",
            "  n' in pip d\n",
            "  ocumentatio\n",
            "  n for more \n",
            "  information\n",
            "  .\n",
            "  --client-cert <path>\n",
            "  Path to SSL\n",
            "  client cert\n",
            "  ificate, a\n",
            "  single file\n",
            "  containing\n",
            "  the private\n",
            "  key and the\n",
            "  certificate\n",
            "  in PEM\n",
            "  format.\n",
            "  --cache-dir <dir>\n",
            "  Store the\n",
            "  cache data\n",
            "  in <dir>.\n",
            "  --no-cache-dir\n",
            "  Disable the\n",
            "  cache.\n",
            "  --disable-pip-version-check\n",
            "  Don't perio\n",
            "  dically\n",
            "  check PyPI\n",
            "  to\n",
            "  determine\n",
            "  whether a\n",
            "  new version\n",
            "  of pip is\n",
            "  available\n",
            "  for\n",
            "  download.\n",
            "  Implied\n",
            "  with --no-\n",
            "  index.\n",
            "  --no-color\n",
            "  Suppress\n",
            "  colored\n",
            "  output.\n",
            "  --no-python-version-warning\n",
            "  Silence\n",
            "  deprecation\n",
            "  warnings\n",
            "  for\n",
            "  upcoming\n",
            "  unsupported\n",
            "  Pythons.\n",
            "  --use-feature <feature>\n",
            "  Enable new \n",
            "  functionali\n",
            "  ty, that\n",
            "  may be\n",
            "  backward in\n",
            "  compatible.\n",
            "  --use-deprecated <feature>\n",
            "  Enable\n",
            "  deprecated \n",
            "  functionali\n",
            "  ty, that\n",
            "  will be\n",
            "  removed in\n",
            "  the future.\n",
            "install: missing file operand\n",
            "Try 'install --help' for more information.\n",
            "/bin/bash: pad-sequences>=0.6.0: command not found\n"
          ]
        }
      ]
    },
    {
      "cell_type": "code",
      "source": [
        "from tensorflow.keras.utils import pad_sequences"
      ],
      "metadata": {
        "id": "W8Gw_zXgeACg"
      },
      "execution_count": null,
      "outputs": []
    },
    {
      "cell_type": "code",
      "source": [
        "dataset = pd.read_csv('/content/drive/MyDrive/Dataset/Sentiment.csv')\n",
        "dataset.head()"
      ],
      "metadata": {
        "colab": {
          "base_uri": "https://localhost:8080/",
          "height": 490
        },
        "id": "6NAdEfwTeJIs",
        "outputId": "3f9e76a1-6e04-4326-bded-ad968f28304d"
      },
      "execution_count": null,
      "outputs": [
        {
          "output_type": "execute_result",
          "data": {
            "text/plain": [
              "   id               candidate  candidate_confidence relevant_yn  \\\n",
              "0   1  No candidate mentioned                   1.0         yes   \n",
              "1   2            Scott Walker                   1.0         yes   \n",
              "2   3  No candidate mentioned                   1.0         yes   \n",
              "3   4  No candidate mentioned                   1.0         yes   \n",
              "4   5            Donald Trump                   1.0         yes   \n",
              "\n",
              "   relevant_yn_confidence sentiment  sentiment_confidence     subject_matter  \\\n",
              "0                     1.0   Neutral                0.6578  None of the above   \n",
              "1                     1.0  Positive                0.6333  None of the above   \n",
              "2                     1.0   Neutral                0.6629  None of the above   \n",
              "3                     1.0  Positive                1.0000  None of the above   \n",
              "4                     1.0  Positive                0.7045  None of the above   \n",
              "\n",
              "   subject_matter_confidence candidate_gold  ... relevant_yn_gold  \\\n",
              "0                     1.0000            NaN  ...              NaN   \n",
              "1                     1.0000            NaN  ...              NaN   \n",
              "2                     0.6629            NaN  ...              NaN   \n",
              "3                     0.7039            NaN  ...              NaN   \n",
              "4                     1.0000            NaN  ...              NaN   \n",
              "\n",
              "  retweet_count  sentiment_gold subject_matter_gold  \\\n",
              "0             5             NaN                 NaN   \n",
              "1            26             NaN                 NaN   \n",
              "2            27             NaN                 NaN   \n",
              "3           138             NaN                 NaN   \n",
              "4           156             NaN                 NaN   \n",
              "\n",
              "                                                text tweet_coord  \\\n",
              "0  RT @NancyLeeGrahn: How did everyone feel about...         NaN   \n",
              "1  RT @ScottWalker: Didn't catch the full #GOPdeb...         NaN   \n",
              "2  RT @TJMShow: No mention of Tamir Rice and the ...         NaN   \n",
              "3  RT @RobGeorge: That Carly Fiorina is trending ...         NaN   \n",
              "4  RT @DanScavino: #GOPDebate w/ @realDonaldTrump...         NaN   \n",
              "\n",
              "               tweet_created            tweet_id  tweet_location  \\\n",
              "0  2015-08-07 09:54:46 -0700  629697200650592256             NaN   \n",
              "1  2015-08-07 09:54:46 -0700  629697199560069120             NaN   \n",
              "2  2015-08-07 09:54:46 -0700  629697199312482304             NaN   \n",
              "3  2015-08-07 09:54:45 -0700  629697197118861312           Texas   \n",
              "4  2015-08-07 09:54:45 -0700  629697196967903232             NaN   \n",
              "\n",
              "                user_timezone  \n",
              "0                       Quito  \n",
              "1                         NaN  \n",
              "2                         NaN  \n",
              "3  Central Time (US & Canada)  \n",
              "4                     Arizona  \n",
              "\n",
              "[5 rows x 21 columns]"
            ],
            "text/html": [
              "\n",
              "\n",
              "  <div id=\"df-a150e123-9c21-401a-bc63-cffdee951116\">\n",
              "    <div class=\"colab-df-container\">\n",
              "      <div>\n",
              "<style scoped>\n",
              "    .dataframe tbody tr th:only-of-type {\n",
              "        vertical-align: middle;\n",
              "    }\n",
              "\n",
              "    .dataframe tbody tr th {\n",
              "        vertical-align: top;\n",
              "    }\n",
              "\n",
              "    .dataframe thead th {\n",
              "        text-align: right;\n",
              "    }\n",
              "</style>\n",
              "<table border=\"1\" class=\"dataframe\">\n",
              "  <thead>\n",
              "    <tr style=\"text-align: right;\">\n",
              "      <th></th>\n",
              "      <th>id</th>\n",
              "      <th>candidate</th>\n",
              "      <th>candidate_confidence</th>\n",
              "      <th>relevant_yn</th>\n",
              "      <th>relevant_yn_confidence</th>\n",
              "      <th>sentiment</th>\n",
              "      <th>sentiment_confidence</th>\n",
              "      <th>subject_matter</th>\n",
              "      <th>subject_matter_confidence</th>\n",
              "      <th>candidate_gold</th>\n",
              "      <th>...</th>\n",
              "      <th>relevant_yn_gold</th>\n",
              "      <th>retweet_count</th>\n",
              "      <th>sentiment_gold</th>\n",
              "      <th>subject_matter_gold</th>\n",
              "      <th>text</th>\n",
              "      <th>tweet_coord</th>\n",
              "      <th>tweet_created</th>\n",
              "      <th>tweet_id</th>\n",
              "      <th>tweet_location</th>\n",
              "      <th>user_timezone</th>\n",
              "    </tr>\n",
              "  </thead>\n",
              "  <tbody>\n",
              "    <tr>\n",
              "      <th>0</th>\n",
              "      <td>1</td>\n",
              "      <td>No candidate mentioned</td>\n",
              "      <td>1.0</td>\n",
              "      <td>yes</td>\n",
              "      <td>1.0</td>\n",
              "      <td>Neutral</td>\n",
              "      <td>0.6578</td>\n",
              "      <td>None of the above</td>\n",
              "      <td>1.0000</td>\n",
              "      <td>NaN</td>\n",
              "      <td>...</td>\n",
              "      <td>NaN</td>\n",
              "      <td>5</td>\n",
              "      <td>NaN</td>\n",
              "      <td>NaN</td>\n",
              "      <td>RT @NancyLeeGrahn: How did everyone feel about...</td>\n",
              "      <td>NaN</td>\n",
              "      <td>2015-08-07 09:54:46 -0700</td>\n",
              "      <td>629697200650592256</td>\n",
              "      <td>NaN</td>\n",
              "      <td>Quito</td>\n",
              "    </tr>\n",
              "    <tr>\n",
              "      <th>1</th>\n",
              "      <td>2</td>\n",
              "      <td>Scott Walker</td>\n",
              "      <td>1.0</td>\n",
              "      <td>yes</td>\n",
              "      <td>1.0</td>\n",
              "      <td>Positive</td>\n",
              "      <td>0.6333</td>\n",
              "      <td>None of the above</td>\n",
              "      <td>1.0000</td>\n",
              "      <td>NaN</td>\n",
              "      <td>...</td>\n",
              "      <td>NaN</td>\n",
              "      <td>26</td>\n",
              "      <td>NaN</td>\n",
              "      <td>NaN</td>\n",
              "      <td>RT @ScottWalker: Didn't catch the full #GOPdeb...</td>\n",
              "      <td>NaN</td>\n",
              "      <td>2015-08-07 09:54:46 -0700</td>\n",
              "      <td>629697199560069120</td>\n",
              "      <td>NaN</td>\n",
              "      <td>NaN</td>\n",
              "    </tr>\n",
              "    <tr>\n",
              "      <th>2</th>\n",
              "      <td>3</td>\n",
              "      <td>No candidate mentioned</td>\n",
              "      <td>1.0</td>\n",
              "      <td>yes</td>\n",
              "      <td>1.0</td>\n",
              "      <td>Neutral</td>\n",
              "      <td>0.6629</td>\n",
              "      <td>None of the above</td>\n",
              "      <td>0.6629</td>\n",
              "      <td>NaN</td>\n",
              "      <td>...</td>\n",
              "      <td>NaN</td>\n",
              "      <td>27</td>\n",
              "      <td>NaN</td>\n",
              "      <td>NaN</td>\n",
              "      <td>RT @TJMShow: No mention of Tamir Rice and the ...</td>\n",
              "      <td>NaN</td>\n",
              "      <td>2015-08-07 09:54:46 -0700</td>\n",
              "      <td>629697199312482304</td>\n",
              "      <td>NaN</td>\n",
              "      <td>NaN</td>\n",
              "    </tr>\n",
              "    <tr>\n",
              "      <th>3</th>\n",
              "      <td>4</td>\n",
              "      <td>No candidate mentioned</td>\n",
              "      <td>1.0</td>\n",
              "      <td>yes</td>\n",
              "      <td>1.0</td>\n",
              "      <td>Positive</td>\n",
              "      <td>1.0000</td>\n",
              "      <td>None of the above</td>\n",
              "      <td>0.7039</td>\n",
              "      <td>NaN</td>\n",
              "      <td>...</td>\n",
              "      <td>NaN</td>\n",
              "      <td>138</td>\n",
              "      <td>NaN</td>\n",
              "      <td>NaN</td>\n",
              "      <td>RT @RobGeorge: That Carly Fiorina is trending ...</td>\n",
              "      <td>NaN</td>\n",
              "      <td>2015-08-07 09:54:45 -0700</td>\n",
              "      <td>629697197118861312</td>\n",
              "      <td>Texas</td>\n",
              "      <td>Central Time (US &amp; Canada)</td>\n",
              "    </tr>\n",
              "    <tr>\n",
              "      <th>4</th>\n",
              "      <td>5</td>\n",
              "      <td>Donald Trump</td>\n",
              "      <td>1.0</td>\n",
              "      <td>yes</td>\n",
              "      <td>1.0</td>\n",
              "      <td>Positive</td>\n",
              "      <td>0.7045</td>\n",
              "      <td>None of the above</td>\n",
              "      <td>1.0000</td>\n",
              "      <td>NaN</td>\n",
              "      <td>...</td>\n",
              "      <td>NaN</td>\n",
              "      <td>156</td>\n",
              "      <td>NaN</td>\n",
              "      <td>NaN</td>\n",
              "      <td>RT @DanScavino: #GOPDebate w/ @realDonaldTrump...</td>\n",
              "      <td>NaN</td>\n",
              "      <td>2015-08-07 09:54:45 -0700</td>\n",
              "      <td>629697196967903232</td>\n",
              "      <td>NaN</td>\n",
              "      <td>Arizona</td>\n",
              "    </tr>\n",
              "  </tbody>\n",
              "</table>\n",
              "<p>5 rows × 21 columns</p>\n",
              "</div>\n",
              "      <button class=\"colab-df-convert\" onclick=\"convertToInteractive('df-a150e123-9c21-401a-bc63-cffdee951116')\"\n",
              "              title=\"Convert this dataframe to an interactive table.\"\n",
              "              style=\"display:none;\">\n",
              "\n",
              "  <svg xmlns=\"http://www.w3.org/2000/svg\" height=\"24px\"viewBox=\"0 0 24 24\"\n",
              "       width=\"24px\">\n",
              "    <path d=\"M0 0h24v24H0V0z\" fill=\"none\"/>\n",
              "    <path d=\"M18.56 5.44l.94 2.06.94-2.06 2.06-.94-2.06-.94-.94-2.06-.94 2.06-2.06.94zm-11 1L8.5 8.5l.94-2.06 2.06-.94-2.06-.94L8.5 2.5l-.94 2.06-2.06.94zm10 10l.94 2.06.94-2.06 2.06-.94-2.06-.94-.94-2.06-.94 2.06-2.06.94z\"/><path d=\"M17.41 7.96l-1.37-1.37c-.4-.4-.92-.59-1.43-.59-.52 0-1.04.2-1.43.59L10.3 9.45l-7.72 7.72c-.78.78-.78 2.05 0 2.83L4 21.41c.39.39.9.59 1.41.59.51 0 1.02-.2 1.41-.59l7.78-7.78 2.81-2.81c.8-.78.8-2.07 0-2.86zM5.41 20L4 18.59l7.72-7.72 1.47 1.35L5.41 20z\"/>\n",
              "  </svg>\n",
              "      </button>\n",
              "\n",
              "\n",
              "\n",
              "    <div id=\"df-5b4ff3b4-efe5-4dc6-b376-d47dce2c079b\">\n",
              "      <button class=\"colab-df-quickchart\" onclick=\"quickchart('df-5b4ff3b4-efe5-4dc6-b376-d47dce2c079b')\"\n",
              "              title=\"Suggest charts.\"\n",
              "              style=\"display:none;\">\n",
              "\n",
              "<svg xmlns=\"http://www.w3.org/2000/svg\" height=\"24px\"viewBox=\"0 0 24 24\"\n",
              "     width=\"24px\">\n",
              "    <g>\n",
              "        <path d=\"M19 3H5c-1.1 0-2 .9-2 2v14c0 1.1.9 2 2 2h14c1.1 0 2-.9 2-2V5c0-1.1-.9-2-2-2zM9 17H7v-7h2v7zm4 0h-2V7h2v10zm4 0h-2v-4h2v4z\"/>\n",
              "    </g>\n",
              "</svg>\n",
              "      </button>\n",
              "    </div>\n",
              "\n",
              "<style>\n",
              "  .colab-df-quickchart {\n",
              "    background-color: #E8F0FE;\n",
              "    border: none;\n",
              "    border-radius: 50%;\n",
              "    cursor: pointer;\n",
              "    display: none;\n",
              "    fill: #1967D2;\n",
              "    height: 32px;\n",
              "    padding: 0 0 0 0;\n",
              "    width: 32px;\n",
              "  }\n",
              "\n",
              "  .colab-df-quickchart:hover {\n",
              "    background-color: #E2EBFA;\n",
              "    box-shadow: 0px 1px 2px rgba(60, 64, 67, 0.3), 0px 1px 3px 1px rgba(60, 64, 67, 0.15);\n",
              "    fill: #174EA6;\n",
              "  }\n",
              "\n",
              "  [theme=dark] .colab-df-quickchart {\n",
              "    background-color: #3B4455;\n",
              "    fill: #D2E3FC;\n",
              "  }\n",
              "\n",
              "  [theme=dark] .colab-df-quickchart:hover {\n",
              "    background-color: #434B5C;\n",
              "    box-shadow: 0px 1px 3px 1px rgba(0, 0, 0, 0.15);\n",
              "    filter: drop-shadow(0px 1px 2px rgba(0, 0, 0, 0.3));\n",
              "    fill: #FFFFFF;\n",
              "  }\n",
              "</style>\n",
              "\n",
              "    <script>\n",
              "      async function quickchart(key) {\n",
              "        const containerElement = document.querySelector('#' + key);\n",
              "        const charts = await google.colab.kernel.invokeFunction(\n",
              "            'suggestCharts', [key], {});\n",
              "      }\n",
              "    </script>\n",
              "\n",
              "      <script>\n",
              "\n",
              "function displayQuickchartButton(domScope) {\n",
              "  let quickchartButtonEl =\n",
              "    domScope.querySelector('#df-5b4ff3b4-efe5-4dc6-b376-d47dce2c079b button.colab-df-quickchart');\n",
              "  quickchartButtonEl.style.display =\n",
              "    google.colab.kernel.accessAllowed ? 'block' : 'none';\n",
              "}\n",
              "\n",
              "        displayQuickchartButton(document);\n",
              "      </script>\n",
              "      <style>\n",
              "    .colab-df-container {\n",
              "      display:flex;\n",
              "      flex-wrap:wrap;\n",
              "      gap: 12px;\n",
              "    }\n",
              "\n",
              "    .colab-df-convert {\n",
              "      background-color: #E8F0FE;\n",
              "      border: none;\n",
              "      border-radius: 50%;\n",
              "      cursor: pointer;\n",
              "      display: none;\n",
              "      fill: #1967D2;\n",
              "      height: 32px;\n",
              "      padding: 0 0 0 0;\n",
              "      width: 32px;\n",
              "    }\n",
              "\n",
              "    .colab-df-convert:hover {\n",
              "      background-color: #E2EBFA;\n",
              "      box-shadow: 0px 1px 2px rgba(60, 64, 67, 0.3), 0px 1px 3px 1px rgba(60, 64, 67, 0.15);\n",
              "      fill: #174EA6;\n",
              "    }\n",
              "\n",
              "    [theme=dark] .colab-df-convert {\n",
              "      background-color: #3B4455;\n",
              "      fill: #D2E3FC;\n",
              "    }\n",
              "\n",
              "    [theme=dark] .colab-df-convert:hover {\n",
              "      background-color: #434B5C;\n",
              "      box-shadow: 0px 1px 3px 1px rgba(0, 0, 0, 0.15);\n",
              "      filter: drop-shadow(0px 1px 2px rgba(0, 0, 0, 0.3));\n",
              "      fill: #FFFFFF;\n",
              "    }\n",
              "  </style>\n",
              "\n",
              "      <script>\n",
              "        const buttonEl =\n",
              "          document.querySelector('#df-a150e123-9c21-401a-bc63-cffdee951116 button.colab-df-convert');\n",
              "        buttonEl.style.display =\n",
              "          google.colab.kernel.accessAllowed ? 'block' : 'none';\n",
              "\n",
              "        async function convertToInteractive(key) {\n",
              "          const element = document.querySelector('#df-a150e123-9c21-401a-bc63-cffdee951116');\n",
              "          const dataTable =\n",
              "            await google.colab.kernel.invokeFunction('convertToInteractive',\n",
              "                                                     [key], {});\n",
              "          if (!dataTable) return;\n",
              "\n",
              "          const docLinkHtml = 'Like what you see? Visit the ' +\n",
              "            '<a target=\"_blank\" href=https://colab.research.google.com/notebooks/data_table.ipynb>data table notebook</a>'\n",
              "            + ' to learn more about interactive tables.';\n",
              "          element.innerHTML = '';\n",
              "          dataTable['output_type'] = 'display_data';\n",
              "          await google.colab.output.renderOutput(dataTable, element);\n",
              "          const docLink = document.createElement('div');\n",
              "          docLink.innerHTML = docLinkHtml;\n",
              "          element.appendChild(docLink);\n",
              "        }\n",
              "      </script>\n",
              "    </div>\n",
              "  </div>\n"
            ]
          },
          "metadata": {},
          "execution_count": 9
        }
      ]
    },
    {
      "cell_type": "code",
      "source": [
        "dataset = dataset[['text','sentiment']]\n",
        "print(dataset)"
      ],
      "metadata": {
        "colab": {
          "base_uri": "https://localhost:8080/"
        },
        "id": "-43JKvmPtDMI",
        "outputId": "8262918e-bb31-4976-f129-b04c90a02739"
      },
      "execution_count": null,
      "outputs": [
        {
          "output_type": "stream",
          "name": "stdout",
          "text": [
            "                                                    text sentiment\n",
            "0      RT @NancyLeeGrahn: How did everyone feel about...   Neutral\n",
            "1      RT @ScottWalker: Didn't catch the full #GOPdeb...  Positive\n",
            "2      RT @TJMShow: No mention of Tamir Rice and the ...   Neutral\n",
            "3      RT @RobGeorge: That Carly Fiorina is trending ...  Positive\n",
            "4      RT @DanScavino: #GOPDebate w/ @realDonaldTrump...  Positive\n",
            "...                                                  ...       ...\n",
            "13866  RT @cappy_yarbrough: Love to see men who will ...  Negative\n",
            "13867  RT @georgehenryw: Who thought Huckabee exceede...  Positive\n",
            "13868  RT @Lrihendry: #TedCruz As President, I will a...  Positive\n",
            "13869  RT @JRehling: #GOPDebate Donald Trump says tha...  Negative\n",
            "13870  RT @Lrihendry: #TedCruz headed into the Presid...  Positive\n",
            "\n",
            "[13871 rows x 2 columns]\n"
          ]
        }
      ]
    },
    {
      "cell_type": "code",
      "source": [
        "sentiment_counts = dataset.groupby(['sentiment']).size()\n",
        "print(sentiment_counts)"
      ],
      "metadata": {
        "colab": {
          "base_uri": "https://localhost:8080/"
        },
        "id": "kETNbLOw0NDi",
        "outputId": "50109714-05af-46be-d432-224cc1460104"
      },
      "execution_count": null,
      "outputs": [
        {
          "output_type": "stream",
          "name": "stdout",
          "text": [
            "sentiment\n",
            "Negative    8493\n",
            "Neutral     3142\n",
            "Positive    2236\n",
            "dtype: int64\n"
          ]
        }
      ]
    },
    {
      "cell_type": "code",
      "source": [
        "dataset = dataset[dataset.sentiment != \"Neutral\"]\n",
        "print(dataset.shape)"
      ],
      "metadata": {
        "id": "U1TWkCpxAeqV",
        "colab": {
          "base_uri": "https://localhost:8080/"
        },
        "outputId": "92f0229d-cb04-4c62-b024-bf9129fadd8c"
      },
      "execution_count": null,
      "outputs": [
        {
          "output_type": "stream",
          "name": "stdout",
          "text": [
            "(10729, 2)\n"
          ]
        }
      ]
    },
    {
      "cell_type": "code",
      "source": [
        "df_minority=dataset[dataset[\"sentiment\"]==\"Positive\"]\n",
        "print(df_minority.shape)\n",
        "df_minority2=dataset[dataset[\"sentiment\"]==\"Negative\"]\n",
        "print(df_minority2.shape)"
      ],
      "metadata": {
        "colab": {
          "base_uri": "https://localhost:8080/"
        },
        "id": "BKnWcUwzG8jY",
        "outputId": "3aa47a01-7c67-4037-ee95-3c218113eb95"
      },
      "execution_count": null,
      "outputs": [
        {
          "output_type": "stream",
          "name": "stdout",
          "text": [
            "(2236, 2)\n",
            "(8493, 2)\n"
          ]
        }
      ]
    },
    {
      "cell_type": "code",
      "source": [
        "df_class_oversample = df_minority.sample(50000,replace=True)\n",
        "df_class_oversample2 = df_minority2.sample(50000,replace=True)"
      ],
      "metadata": {
        "id": "kqz74CCXONXr"
      },
      "execution_count": null,
      "outputs": []
    },
    {
      "cell_type": "code",
      "source": [
        "df_merged = pd.concat([df_class_oversample2,df_class_oversample], ignore_index=True, sort=False)\n",
        "print(df_merged)\n",
        "df_merged.shape"
      ],
      "metadata": {
        "colab": {
          "base_uri": "https://localhost:8080/"
        },
        "id": "0bY4cFz13vcG",
        "outputId": "8fbc0576-987d-4984-9650-0af40f0b93b3"
      },
      "execution_count": null,
      "outputs": [
        {
          "output_type": "stream",
          "name": "stdout",
          "text": [
            "                                                    text sentiment\n",
            "0      A Foxy, Rowdy Republican Debate #GOPDebate Que...  Negative\n",
            "1      RT @RWSurferGirl: Is it just me or does anyone...  Negative\n",
            "2      Overall the main thing we learned from the #GO...  Negative\n",
            "3      RT @jennifernvictor: .@RandPaul \"We're borrowi...  Negative\n",
            "4      RT @Trainspotter001: Insightful commentary fro...  Negative\n",
            "...                                                  ...       ...\n",
            "99995  #GOPDebate: Ted Cruz’s Precious Daughters Stea...  Positive\n",
            "99996  Carly Fiorina is really impressive, I hope she...  Positive\n",
            "99997  RT @COHealthAccess: The biggest winner at the ...  Positive\n",
            "99998  RT @UnitedCitizen01: #FOXNEWS  #GOPDebates  @B...  Positive\n",
            "99999  Frank Luntz #GOPdebate\\nTed Cruz. Great news!\\...  Positive\n",
            "\n",
            "[100000 rows x 2 columns]\n"
          ]
        },
        {
          "output_type": "execute_result",
          "data": {
            "text/plain": [
              "(100000, 2)"
            ]
          },
          "metadata": {},
          "execution_count": 42
        }
      ]
    },
    {
      "cell_type": "code",
      "source": [
        "shuffled = df_merged.sample(frac=1)\n",
        "print(shuffled)\n",
        "shuffled.shape"
      ],
      "metadata": {
        "colab": {
          "base_uri": "https://localhost:8080/"
        },
        "id": "gC7yZq3E40Js",
        "outputId": "3a4bd84f-cd18-4814-b70a-e2331162f810"
      },
      "execution_count": null,
      "outputs": [
        {
          "output_type": "stream",
          "name": "stdout",
          "text": [
            "                                                    text sentiment\n",
            "57997  I like what Marco Rubio had to say at the begi...  Positive\n",
            "10177  RT @cowboytexas: Proof #GOPDebate Republicans ...  Negative\n",
            "2976   RT @LoganJames: Kill people and break things #...  Negative\n",
            "30622  Does @realDonaldTrump believe he's gonna win r...  Negative\n",
            "86543  RT @AmnaKhalid: “If I have to monitor a mosque...  Positive\n",
            "...                                                  ...       ...\n",
            "61978         Rubio is American Dream story. #GOPDebates  Positive\n",
            "41050  RT @cerenomri: I thought we fought the Revolut...  Negative\n",
            "98574  RT @Wilberforce91: One of my favorite things a...  Positive\n",
            "3436   RT @RWSurferGirl: Is it just me or does anyone...  Negative\n",
            "96730  RT @T0H0DAD: By far the most professional cand...  Positive\n",
            "\n",
            "[100000 rows x 2 columns]\n"
          ]
        },
        {
          "output_type": "execute_result",
          "data": {
            "text/plain": [
              "(100000, 2)"
            ]
          },
          "metadata": {},
          "execution_count": 43
        }
      ]
    },
    {
      "cell_type": "code",
      "source": [
        "def remove_punctuation(text):\n",
        "    punctuationfree=\"\".join([i for i in text if i not in string.punctuation])\n",
        "    return punctuationfree\n",
        "shuffled['punch_free']= shuffled['text'].apply(lambda x:remove_punctuation(x))\n",
        "shuffled['punch_free1'] = shuffled['punch_free'].apply((lambda x: re.sub('[^a-zA-z\\s]','',x)))\n",
        "shuffled['punch_free2'] = shuffled['punch_free1'].apply((lambda x: re.sub('RT','',x)))\n",
        "print(shuffled[\"punch_free2\"])"
      ],
      "metadata": {
        "colab": {
          "base_uri": "https://localhost:8080/"
        },
        "id": "o3rdVXD8ovRC",
        "outputId": "4440b8a2-80e2-4ec9-99d0-7fcd99554066"
      },
      "execution_count": null,
      "outputs": [
        {
          "output_type": "stream",
          "name": "stdout",
          "text": [
            "57997    I like what Marco Rubio had to say at the begi...\n",
            "10177     cowboytexas Proof GOPDebate Republicans and F...\n",
            "2976      LoganJames Kill people and break things GOPDe...\n",
            "30622    Does realDonaldTrump believe hes gonna win rep...\n",
            "86543     AmnaKhalid If I have to monitor a mosque Ill ...\n",
            "                               ...                        \n",
            "61978             Rubio is American Dream story GOPDebates\n",
            "41050     cerenomri I thought we fought the Revolution ...\n",
            "98574     Wilberforce One of my favorite things about t...\n",
            "3436      RWSurferGirl Is it just me or does anyone els...\n",
            "96730     THDAD By far the most professional candidate ...\n",
            "Name: punch_free2, Length: 100000, dtype: object\n"
          ]
        }
      ]
    },
    {
      "cell_type": "code",
      "source": [
        "shuffled['msg_lower']= shuffled['punch_free2'].apply(lambda x: x.lower())\n",
        "print(shuffled[\"msg_lower\"])"
      ],
      "metadata": {
        "colab": {
          "base_uri": "https://localhost:8080/"
        },
        "id": "A4r7sjnCpnCF",
        "outputId": "c03eb8f7-efe2-487b-caf9-da1b01e9bebb"
      },
      "execution_count": null,
      "outputs": [
        {
          "output_type": "stream",
          "name": "stdout",
          "text": [
            "57997    i like what marco rubio had to say at the begi...\n",
            "10177     cowboytexas proof gopdebate republicans and f...\n",
            "2976      loganjames kill people and break things gopde...\n",
            "30622    does realdonaldtrump believe hes gonna win rep...\n",
            "86543     amnakhalid if i have to monitor a mosque ill ...\n",
            "                               ...                        \n",
            "61978             rubio is american dream story gopdebates\n",
            "41050     cerenomri i thought we fought the revolution ...\n",
            "98574     wilberforce one of my favorite things about t...\n",
            "3436      rwsurfergirl is it just me or does anyone els...\n",
            "96730     thdad by far the most professional candidate ...\n",
            "Name: msg_lower, Length: 100000, dtype: object\n"
          ]
        }
      ]
    },
    {
      "cell_type": "code",
      "source": [
        "def tokenization(text):\n",
        "    tokens=nltk.wordpunct_tokenize(text)\n",
        "    return tokens\n",
        "shuffled['msg_tokenied']= shuffled['msg_lower'].apply(lambda x: tokenization(x))\n",
        "print(shuffled[\"msg_tokenied\"])"
      ],
      "metadata": {
        "colab": {
          "base_uri": "https://localhost:8080/"
        },
        "id": "-yZkjmYfprgi",
        "outputId": "61a1f0e2-b3a1-44c6-84e2-a12840e7563d"
      },
      "execution_count": null,
      "outputs": [
        {
          "output_type": "stream",
          "name": "stdout",
          "text": [
            "57997    [i, like, what, marco, rubio, had, to, say, at...\n",
            "10177    [cowboytexas, proof, gopdebate, republicans, a...\n",
            "2976     [loganjames, kill, people, and, break, things,...\n",
            "30622    [does, realdonaldtrump, believe, hes, gonna, w...\n",
            "86543    [amnakhalid, if, i, have, to, monitor, a, mosq...\n",
            "                               ...                        \n",
            "61978      [rubio, is, american, dream, story, gopdebates]\n",
            "41050    [cerenomri, i, thought, we, fought, the, revol...\n",
            "98574    [wilberforce, one, of, my, favorite, things, a...\n",
            "3436     [rwsurfergirl, is, it, just, me, or, does, any...\n",
            "96730    [thdad, by, far, the, most, professional, cand...\n",
            "Name: msg_tokenied, Length: 100000, dtype: object\n"
          ]
        }
      ]
    },
    {
      "cell_type": "code",
      "source": [
        "def remove_stopwords(text):\n",
        "    output= [i for i in text if i not in stopwords]\n",
        "    return output\n",
        "shuffled['msg_stopword']= shuffled['msg_tokenied'].apply(lambda x:remove_stopwords(x))\n",
        "print(shuffled[\"msg_stopword\"])"
      ],
      "metadata": {
        "colab": {
          "base_uri": "https://localhost:8080/"
        },
        "id": "nH62BKsgqVHr",
        "outputId": "ee7cff5d-2647-4ba5-a098-8aecfd7eaf5c"
      },
      "execution_count": null,
      "outputs": [
        {
          "output_type": "stream",
          "name": "stdout",
          "text": [
            "57997    [like, marco, rubio, say, beginning, actually,...\n",
            "10177    [cowboytexas, proof, gopdebate, republicans, f...\n",
            "2976     [loganjames, kill, people, break, things, gopd...\n",
            "30622    [realdonaldtrump, believe, hes, gonna, win, re...\n",
            "86543    [amnakhalid, monitor, mosque, ill, monitor, mo...\n",
            "                               ...                        \n",
            "61978          [rubio, american, dream, story, gopdebates]\n",
            "41050    [cerenomri, thought, fought, revolution, quart...\n",
            "98574    [wilberforce, one, favorite, things, gopdebate...\n",
            "3436     [rwsurfergirl, anyone, else, want, punch, chri...\n",
            "96730    [thdad, far, professional, candidate, tedcruz,...\n",
            "Name: msg_stopword, Length: 100000, dtype: object\n"
          ]
        }
      ]
    },
    {
      "cell_type": "code",
      "source": [
        "from nltk.stem import WordNetLemmatizer\n",
        "wordnet_lemmatizer = WordNetLemmatizer()\n",
        "def lemmatizer(text):\n",
        "  lemm_text = [wordnet_lemmatizer.lemmatize(word) for word in text]\n",
        "  return lemm_text\n",
        "shuffled['msg_lemmatized']=shuffled['msg_stopword'].apply(lambda x:lemmatizer(x))\n",
        "print(shuffled[\"msg_lemmatized\"])"
      ],
      "metadata": {
        "colab": {
          "base_uri": "https://localhost:8080/"
        },
        "id": "_1MZPOILqaS3",
        "outputId": "a1046c08-0f66-43b5-8796-077961537972"
      },
      "execution_count": null,
      "outputs": [
        {
          "output_type": "stream",
          "name": "stdout",
          "text": [
            "57997    [like, marco, rubio, say, beginning, actually,...\n",
            "10177    [cowboytexas, proof, gopdebate, republican, fo...\n",
            "2976     [loganjames, kill, people, break, thing, gopde...\n",
            "30622    [realdonaldtrump, believe, he, gonna, win, rep...\n",
            "86543    [amnakhalid, monitor, mosque, ill, monitor, mo...\n",
            "                               ...                        \n",
            "61978          [rubio, american, dream, story, gopdebates]\n",
            "41050    [cerenomri, thought, fought, revolution, quart...\n",
            "98574    [wilberforce, one, favorite, thing, gopdebates...\n",
            "3436     [rwsurfergirl, anyone, else, want, punch, chri...\n",
            "96730    [thdad, far, professional, candidate, tedcruz,...\n",
            "Name: msg_lemmatized, Length: 100000, dtype: object\n"
          ]
        }
      ]
    },
    {
      "cell_type": "code",
      "source": [
        "max_fatures = 2000\n",
        "tokenizer = Tokenizer(num_words=max_fatures, split=' ')\n",
        "tokenizer.fit_on_texts(shuffled['msg_stopword'].values)\n",
        "X = tokenizer.texts_to_sequences(shuffled['msg_stopword'].values)\n",
        "print(X)\n",
        "X = pad_sequences(X)\n",
        "from sklearn.preprocessing import StandardScaler\n",
        "sc=StandardScaler()\n",
        "x=sc.fit_transform(X)\n",
        "print(x.shape)\n",
        "print(x)"
      ],
      "metadata": {
        "colab": {
          "base_uri": "https://localhost:8080/"
        },
        "id": "H0yGEVHhqjeG",
        "outputId": "b9f60dce-80dd-439b-f86e-e389dbb10dc8"
      },
      "execution_count": null,
      "outputs": [
        {
          "output_type": "stream",
          "name": "stderr",
          "text": [
            "IOPub data rate exceeded.\n",
            "The notebook server will temporarily stop sending output\n",
            "to the client in order to avoid crashing it.\n",
            "To change this limit, set the config variable\n",
            "`--NotebookApp.iopub_data_rate_limit`.\n",
            "\n",
            "Current values:\n",
            "NotebookApp.iopub_data_rate_limit=1000000.0 (bytes/sec)\n",
            "NotebookApp.rate_limit_window=3.0 (secs)\n",
            "\n"
          ]
        },
        {
          "output_type": "stream",
          "name": "stdout",
          "text": [
            "(100000, 22)\n",
            "[[-0.0164339  -0.0164339  -0.0164339  ...  2.22302746 -0.30805633\n",
            "  -0.5411672 ]\n",
            " [-0.0164339  -0.0164339  -0.0164339  ...  1.33111332  0.59381022\n",
            "   0.22284448]\n",
            " [-0.0164339  -0.0164339  -0.0164339  ... -0.25671408 -0.3830383\n",
            "  -0.5411672 ]\n",
            " ...\n",
            " [-0.0164339  -0.0164339  -0.0164339  ... -0.66192939  0.1272557\n",
            "  -0.5266146 ]\n",
            " [-0.0164339  -0.0164339  -0.0164339  ... -0.6355023  -0.7204572\n",
            "  -0.53874177]\n",
            " [-0.0164339  -0.0164339  -0.0164339  ... -0.61127747 -0.67671771\n",
            "  -0.53874177]]\n"
          ]
        }
      ]
    },
    {
      "cell_type": "code",
      "source": [
        "y=shuffled[\"sentiment\"]\n",
        "print(y.shape)"
      ],
      "metadata": {
        "colab": {
          "base_uri": "https://localhost:8080/"
        },
        "id": "joHa-wyf_IGz",
        "outputId": "d5495b2e-bda3-44af-c169-77b0ff5cd7e8"
      },
      "execution_count": null,
      "outputs": [
        {
          "output_type": "stream",
          "name": "stdout",
          "text": [
            "(100000,)\n"
          ]
        }
      ]
    },
    {
      "cell_type": "code",
      "source": [
        "import pandas as pd\n",
        "from sklearn.preprocessing import OneHotEncoder\n",
        "encoder = OneHotEncoder()\n",
        "Y=y.values.reshape(-1, 1)\n",
        "print(Y)\n",
        "y_onehot = encoder.fit_transform(Y)\n",
        "y_onehot_arr = y_onehot.toarray()\n",
        "print(y_onehot_arr)"
      ],
      "metadata": {
        "colab": {
          "base_uri": "https://localhost:8080/"
        },
        "id": "YYNJ4sND_GgM",
        "outputId": "4604c83f-b19a-41cc-c42d-8184947aa65d"
      },
      "execution_count": null,
      "outputs": [
        {
          "output_type": "stream",
          "name": "stdout",
          "text": [
            "[['Positive']\n",
            " ['Negative']\n",
            " ['Negative']\n",
            " ...\n",
            " ['Positive']\n",
            " ['Negative']\n",
            " ['Positive']]\n",
            "[[0. 1.]\n",
            " [1. 0.]\n",
            " [1. 0.]\n",
            " ...\n",
            " [0. 1.]\n",
            " [1. 0.]\n",
            " [0. 1.]]\n"
          ]
        }
      ]
    },
    {
      "cell_type": "code",
      "source": [
        "model_ann1=Sequential()\n",
        "model_ann1.add(Dense(16,input_dim=x.shape[1],activation=\"tanh\",kernel_initializer=\"he_uniform\"))\n",
        "model_ann1.add(Dense(32,activation=\"tanh\",kernel_initializer=\"he_uniform\"))\n",
        "model_ann1.add(Dense(48,activation=\"tanh\",kernel_initializer=\"he_uniform\"))\n",
        "model_ann1.add(Dense(64,activation=\"tanh\",kernel_initializer=\"he_uniform\"))\n",
        "model_ann1.add(Dense(80,activation=\"tanh\",kernel_initializer=\"he_uniform\"))\n",
        "model_ann1.add(Dense(96,activation=\"tanh\",kernel_initializer=\"he_uniform\"))\n",
        "model_ann1.add(Dense(128,activation=\"tanh\",kernel_initializer=\"he_uniform\"))\n",
        "model_ann1.add(Dense(256,activation=\"tanh\",kernel_initializer=\"he_uniform\"))\n",
        "model_ann1.add(Dense(512,activation=\"tanh\",kernel_initializer=\"he_uniform\"))\n",
        "model_ann1.add(Dense(640,activation=\"tanh\",kernel_initializer=\"he_uniform\"))\n",
        "model_ann1.add(Dense(2,activation=\"softmax\",kernel_initializer=\"he_uniform\"))\n",
        "model_ann1.compile(optimizer=\"SGD\",loss=\"binary_crossentropy\",metrics=[\"accuracy\"])\n",
        "model_ann1.summary()"
      ],
      "metadata": {
        "colab": {
          "base_uri": "https://localhost:8080/"
        },
        "id": "XxQ2TXqB8cDE",
        "outputId": "94c4f3fb-bc37-41a6-fa69-f21c9a84250d"
      },
      "execution_count": null,
      "outputs": [
        {
          "output_type": "stream",
          "name": "stdout",
          "text": [
            "Model: \"sequential_3\"\n",
            "_________________________________________________________________\n",
            " Layer (type)                Output Shape              Param #   \n",
            "=================================================================\n",
            " dense_30 (Dense)            (None, 16)                368       \n",
            "                                                                 \n",
            " dense_31 (Dense)            (None, 32)                544       \n",
            "                                                                 \n",
            " dense_32 (Dense)            (None, 48)                1584      \n",
            "                                                                 \n",
            " dense_33 (Dense)            (None, 64)                3136      \n",
            "                                                                 \n",
            " dense_34 (Dense)            (None, 80)                5200      \n",
            "                                                                 \n",
            " dense_35 (Dense)            (None, 96)                7776      \n",
            "                                                                 \n",
            " dense_36 (Dense)            (None, 128)               12416     \n",
            "                                                                 \n",
            " dense_37 (Dense)            (None, 256)               33024     \n",
            "                                                                 \n",
            " dense_38 (Dense)            (None, 512)               131584    \n",
            "                                                                 \n",
            " dense_39 (Dense)            (None, 640)               328320    \n",
            "                                                                 \n",
            " dense_40 (Dense)            (None, 2)                 1282      \n",
            "                                                                 \n",
            "=================================================================\n",
            "Total params: 525,234\n",
            "Trainable params: 525,234\n",
            "Non-trainable params: 0\n",
            "_________________________________________________________________\n"
          ]
        }
      ]
    },
    {
      "cell_type": "code",
      "source": [
        "inp=Input(shape=(22,))\n",
        "x=Flatten()(inp)\n",
        "x=Dense(16,activation=\"relu\")(x)\n",
        "x=Dense(32,activation=\"relu\")(x)\n",
        "x=Dense(48,activation=\"tanh\",kernel_initializer=\"he_uniform\")(x)\n",
        "x=Dense(64,activation=\"tanh\",kernel_initializer=\"he_uniform\")(x)\n",
        "x=Dense(80,activation=\"tanh\",kernel_initializer=\"he_uniform\")(x)\n",
        "x=Dense(96,activation=\"tanh\",kernel_initializer=\"he_uniform\")(x)\n",
        "x=Dense(128,activation=\"tanh\",kernel_initializer=\"he_uniform\")(x)\n",
        "x=Dense(256,activation=\"tanh\",kernel_initializer=\"he_uniform\")(x)\n",
        "x=Dense(512,activation=\"tanh\",kernel_initializer=\"he_uniform\")(x)\n",
        "x=Dense(640,activation=\"tanh\",kernel_initializer=\"he_uniform\")(x)\n",
        "out=Dense(2,activation=\"softmax\",kernel_initializer=\"he_uniform\")(x)\n",
        "model_ann2=Model(inp,out)\n",
        "model_ann2.compile(optimizer=\"SGD\",loss=\"binary_crossentropy\",metrics=[\"accuracy\"])\n",
        "model_ann2.summary()"
      ],
      "metadata": {
        "colab": {
          "base_uri": "https://localhost:8080/"
        },
        "id": "avb0RxziY0KR",
        "outputId": "033b6189-cdb4-4ad4-b699-5ea73627a17c"
      },
      "execution_count": null,
      "outputs": [
        {
          "output_type": "stream",
          "name": "stdout",
          "text": [
            "Model: \"model_1\"\n",
            "_________________________________________________________________\n",
            " Layer (type)                Output Shape              Param #   \n",
            "=================================================================\n",
            " input_3 (InputLayer)        [(None, 22)]              0         \n",
            "                                                                 \n",
            " flatten_2 (Flatten)         (None, 22)                0         \n",
            "                                                                 \n",
            " dense_31 (Dense)            (None, 16)                368       \n",
            "                                                                 \n",
            " dense_32 (Dense)            (None, 32)                544       \n",
            "                                                                 \n",
            " dense_33 (Dense)            (None, 48)                1584      \n",
            "                                                                 \n",
            " dense_34 (Dense)            (None, 64)                3136      \n",
            "                                                                 \n",
            " dense_35 (Dense)            (None, 80)                5200      \n",
            "                                                                 \n",
            " dense_36 (Dense)            (None, 128)               10368     \n",
            "                                                                 \n",
            " dense_37 (Dense)            (None, 256)               33024     \n",
            "                                                                 \n",
            " dense_38 (Dense)            (None, 512)               131584    \n",
            "                                                                 \n",
            " dense_39 (Dense)            (None, 640)               328320    \n",
            "                                                                 \n",
            " dense_40 (Dense)            (None, 2)                 1282      \n",
            "                                                                 \n",
            "=================================================================\n",
            "Total params: 515,410\n",
            "Trainable params: 515,410\n",
            "Non-trainable params: 0\n",
            "_________________________________________________________________\n"
          ]
        }
      ]
    },
    {
      "cell_type": "code",
      "source": [
        "from sklearn.model_selection import train_test_split\n",
        "x_train,x_test,y_train,y_test=train_test_split(x,y_onehot_arr,test_size=0.2)\n",
        "print(x_train.shape)\n",
        "print(x_test.shape)\n",
        "print(y_train.shape)\n",
        "print(y_test.shape)"
      ],
      "metadata": {
        "colab": {
          "base_uri": "https://localhost:8080/"
        },
        "id": "wzDXkCL3_edI",
        "outputId": "d1d43ae8-ff10-4f09-c559-d2eb69be52a4"
      },
      "execution_count": null,
      "outputs": [
        {
          "output_type": "stream",
          "name": "stdout",
          "text": [
            "(80000, 22)\n",
            "(20000, 22)\n",
            "(80000, 2)\n",
            "(20000, 2)\n"
          ]
        }
      ]
    },
    {
      "cell_type": "code",
      "source": [
        "history_ann=model_ann1.fit(x_train,y_train,epochs=50,batch_size=128,validation_data=(x_test,y_test),verbose=1)"
      ],
      "metadata": {
        "colab": {
          "base_uri": "https://localhost:8080/"
        },
        "id": "ZLN-JsgQe6Oq",
        "outputId": "84f23a0b-540a-43ae-ccf7-7332eef42e87"
      },
      "execution_count": null,
      "outputs": [
        {
          "output_type": "stream",
          "name": "stdout",
          "text": [
            "Epoch 1/50\n",
            "625/625 [==============================] - 5s 5ms/step - loss: 0.6570 - accuracy: 0.6026 - val_loss: 0.6250 - val_accuracy: 0.6323\n",
            "Epoch 2/50\n",
            "625/625 [==============================] - 4s 6ms/step - loss: 0.6062 - accuracy: 0.6516 - val_loss: 0.5900 - val_accuracy: 0.6651\n",
            "Epoch 3/50\n",
            "625/625 [==============================] - 3s 5ms/step - loss: 0.5792 - accuracy: 0.6689 - val_loss: 0.5688 - val_accuracy: 0.6838\n",
            "Epoch 4/50\n",
            "625/625 [==============================] - 3s 5ms/step - loss: 0.5605 - accuracy: 0.6855 - val_loss: 0.5555 - val_accuracy: 0.6873\n",
            "Epoch 5/50\n",
            "625/625 [==============================] - 3s 5ms/step - loss: 0.5453 - accuracy: 0.6989 - val_loss: 0.5493 - val_accuracy: 0.6947\n",
            "Epoch 6/50\n",
            "625/625 [==============================] - 4s 6ms/step - loss: 0.5318 - accuracy: 0.7113 - val_loss: 0.5286 - val_accuracy: 0.7071\n",
            "Epoch 7/50\n",
            "625/625 [==============================] - 3s 5ms/step - loss: 0.5178 - accuracy: 0.7242 - val_loss: 0.5112 - val_accuracy: 0.7262\n",
            "Epoch 8/50\n",
            "625/625 [==============================] - 3s 5ms/step - loss: 0.5054 - accuracy: 0.7340 - val_loss: 0.5016 - val_accuracy: 0.7429\n",
            "Epoch 9/50\n",
            "625/625 [==============================] - 3s 4ms/step - loss: 0.4941 - accuracy: 0.7410 - val_loss: 0.4851 - val_accuracy: 0.7539\n",
            "Epoch 10/50\n",
            "625/625 [==============================] - 4s 6ms/step - loss: 0.4821 - accuracy: 0.7508 - val_loss: 0.4776 - val_accuracy: 0.7517\n",
            "Epoch 11/50\n",
            "625/625 [==============================] - 4s 6ms/step - loss: 0.4707 - accuracy: 0.7578 - val_loss: 0.4670 - val_accuracy: 0.7617\n",
            "Epoch 12/50\n",
            "625/625 [==============================] - 4s 6ms/step - loss: 0.4584 - accuracy: 0.7676 - val_loss: 0.4545 - val_accuracy: 0.7698\n",
            "Epoch 13/50\n",
            "625/625 [==============================] - 3s 4ms/step - loss: 0.4481 - accuracy: 0.7754 - val_loss: 0.4540 - val_accuracy: 0.7689\n",
            "Epoch 14/50\n",
            "625/625 [==============================] - 4s 6ms/step - loss: 0.4356 - accuracy: 0.7837 - val_loss: 0.4387 - val_accuracy: 0.7804\n",
            "Epoch 15/50\n",
            "625/625 [==============================] - 3s 5ms/step - loss: 0.4243 - accuracy: 0.7917 - val_loss: 0.4148 - val_accuracy: 0.7992\n",
            "Epoch 16/50\n",
            "625/625 [==============================] - 3s 5ms/step - loss: 0.4126 - accuracy: 0.7991 - val_loss: 0.4112 - val_accuracy: 0.8005\n",
            "Epoch 17/50\n",
            "625/625 [==============================] - 3s 5ms/step - loss: 0.4018 - accuracy: 0.8070 - val_loss: 0.4049 - val_accuracy: 0.8055\n",
            "Epoch 18/50\n",
            "625/625 [==============================] - 3s 5ms/step - loss: 0.3905 - accuracy: 0.8143 - val_loss: 0.3795 - val_accuracy: 0.8230\n",
            "Epoch 19/50\n",
            "625/625 [==============================] - 4s 6ms/step - loss: 0.3778 - accuracy: 0.8214 - val_loss: 0.3751 - val_accuracy: 0.8216\n",
            "Epoch 20/50\n",
            "625/625 [==============================] - 3s 5ms/step - loss: 0.3664 - accuracy: 0.8288 - val_loss: 0.3627 - val_accuracy: 0.8311\n",
            "Epoch 21/50\n",
            "625/625 [==============================] - 3s 5ms/step - loss: 0.3558 - accuracy: 0.8354 - val_loss: 0.3494 - val_accuracy: 0.8368\n",
            "Epoch 22/50\n",
            "625/625 [==============================] - 3s 5ms/step - loss: 0.3439 - accuracy: 0.8423 - val_loss: 0.3382 - val_accuracy: 0.8472\n",
            "Epoch 23/50\n",
            "625/625 [==============================] - 3s 5ms/step - loss: 0.3350 - accuracy: 0.8463 - val_loss: 0.3333 - val_accuracy: 0.8452\n",
            "Epoch 24/50\n",
            "625/625 [==============================] - 3s 5ms/step - loss: 0.3270 - accuracy: 0.8507 - val_loss: 0.3322 - val_accuracy: 0.8490\n",
            "Epoch 25/50\n",
            "625/625 [==============================] - 3s 5ms/step - loss: 0.3136 - accuracy: 0.8581 - val_loss: 0.3506 - val_accuracy: 0.8327\n",
            "Epoch 26/50\n",
            "625/625 [==============================] - 3s 5ms/step - loss: 0.3048 - accuracy: 0.8623 - val_loss: 0.3199 - val_accuracy: 0.8536\n",
            "Epoch 27/50\n",
            "625/625 [==============================] - 4s 6ms/step - loss: 0.2972 - accuracy: 0.8654 - val_loss: 0.2918 - val_accuracy: 0.8721\n",
            "Epoch 28/50\n",
            "625/625 [==============================] - 3s 5ms/step - loss: 0.2892 - accuracy: 0.8705 - val_loss: 0.2917 - val_accuracy: 0.8633\n",
            "Epoch 29/50\n",
            "625/625 [==============================] - 3s 5ms/step - loss: 0.2799 - accuracy: 0.8748 - val_loss: 0.2740 - val_accuracy: 0.8818\n",
            "Epoch 30/50\n",
            "625/625 [==============================] - 3s 5ms/step - loss: 0.2728 - accuracy: 0.8771 - val_loss: 0.2812 - val_accuracy: 0.8722\n",
            "Epoch 31/50\n",
            "625/625 [==============================] - 4s 6ms/step - loss: 0.2653 - accuracy: 0.8811 - val_loss: 0.2696 - val_accuracy: 0.8763\n",
            "Epoch 32/50\n",
            "625/625 [==============================] - 3s 5ms/step - loss: 0.2574 - accuracy: 0.8842 - val_loss: 0.2587 - val_accuracy: 0.8850\n",
            "Epoch 33/50\n",
            "625/625 [==============================] - 3s 5ms/step - loss: 0.2512 - accuracy: 0.8892 - val_loss: 0.2813 - val_accuracy: 0.8714\n",
            "Epoch 34/50\n",
            "625/625 [==============================] - 3s 5ms/step - loss: 0.2434 - accuracy: 0.8924 - val_loss: 0.2608 - val_accuracy: 0.8823\n",
            "Epoch 35/50\n",
            "625/625 [==============================] - 4s 6ms/step - loss: 0.2397 - accuracy: 0.8935 - val_loss: 0.2354 - val_accuracy: 0.8968\n",
            "Epoch 36/50\n",
            "625/625 [==============================] - 3s 5ms/step - loss: 0.2344 - accuracy: 0.8964 - val_loss: 0.2821 - val_accuracy: 0.8662\n",
            "Epoch 37/50\n",
            "625/625 [==============================] - 3s 5ms/step - loss: 0.2277 - accuracy: 0.9006 - val_loss: 0.2277 - val_accuracy: 0.8998\n",
            "Epoch 38/50\n",
            "625/625 [==============================] - 3s 5ms/step - loss: 0.2234 - accuracy: 0.9011 - val_loss: 0.2184 - val_accuracy: 0.9057\n",
            "Epoch 39/50\n",
            "625/625 [==============================] - 3s 6ms/step - loss: 0.2180 - accuracy: 0.9050 - val_loss: 0.2253 - val_accuracy: 0.9050\n",
            "Epoch 40/50\n",
            "625/625 [==============================] - 3s 5ms/step - loss: 0.2134 - accuracy: 0.9060 - val_loss: 0.2218 - val_accuracy: 0.9040\n",
            "Epoch 41/50\n",
            "625/625 [==============================] - 3s 5ms/step - loss: 0.2096 - accuracy: 0.9070 - val_loss: 0.2124 - val_accuracy: 0.9096\n",
            "Epoch 42/50\n",
            "625/625 [==============================] - 3s 5ms/step - loss: 0.2066 - accuracy: 0.9095 - val_loss: 0.2134 - val_accuracy: 0.9068\n",
            "Epoch 43/50\n",
            "625/625 [==============================] - 3s 5ms/step - loss: 0.2020 - accuracy: 0.9119 - val_loss: 0.1960 - val_accuracy: 0.9179\n",
            "Epoch 44/50\n",
            "625/625 [==============================] - 4s 6ms/step - loss: 0.1974 - accuracy: 0.9139 - val_loss: 0.1982 - val_accuracy: 0.9163\n",
            "Epoch 45/50\n",
            "625/625 [==============================] - 3s 5ms/step - loss: 0.1936 - accuracy: 0.9149 - val_loss: 0.2126 - val_accuracy: 0.9084\n",
            "Epoch 46/50\n",
            "625/625 [==============================] - 3s 5ms/step - loss: 0.1924 - accuracy: 0.9157 - val_loss: 0.1911 - val_accuracy: 0.9197\n",
            "Epoch 47/50\n",
            "625/625 [==============================] - 3s 5ms/step - loss: 0.1871 - accuracy: 0.9191 - val_loss: 0.1953 - val_accuracy: 0.9154\n",
            "Epoch 48/50\n",
            "625/625 [==============================] - 4s 6ms/step - loss: 0.1842 - accuracy: 0.9201 - val_loss: 0.1865 - val_accuracy: 0.9216\n",
            "Epoch 49/50\n",
            "625/625 [==============================] - 3s 5ms/step - loss: 0.1820 - accuracy: 0.9208 - val_loss: 0.1943 - val_accuracy: 0.9132\n",
            "Epoch 50/50\n",
            "625/625 [==============================] - 3s 5ms/step - loss: 0.1817 - accuracy: 0.9207 - val_loss: 0.1766 - val_accuracy: 0.9248\n"
          ]
        }
      ]
    },
    {
      "cell_type": "code",
      "source": [
        "print(history_ann.history.keys())\n",
        "\n",
        "f,ax=plt.subplots()\n",
        "ax.plot(history_ann.history[\"accuracy\"])\n",
        "ax.plot(history_ann.history[\"val_accuracy\"],\"--\")\n",
        "\n",
        "f,ax=plt.subplots()\n",
        "ax.plot(history_ann.history[\"loss\"])\n",
        "ax.plot(history_ann.history[\"val_loss\"])"
      ],
      "metadata": {
        "colab": {
          "base_uri": "https://localhost:8080/",
          "height": 878
        },
        "id": "JMgX_bFT3Gqz",
        "outputId": "345f61f2-379d-46e7-f2e7-6b55793878c2"
      },
      "execution_count": null,
      "outputs": [
        {
          "output_type": "stream",
          "name": "stdout",
          "text": [
            "dict_keys(['loss', 'accuracy', 'val_loss', 'val_accuracy'])\n"
          ]
        },
        {
          "output_type": "execute_result",
          "data": {
            "text/plain": [
              "[<matplotlib.lines.Line2D at 0x7f7f5d343e80>]"
            ]
          },
          "metadata": {},
          "execution_count": 70
        },
        {
          "output_type": "display_data",
          "data": {
            "text/plain": [
              "<Figure size 640x480 with 1 Axes>"
            ],
            "image/png": "[encoded data removed]"
          },
          "metadata": {}
        },
        {
          "output_type": "display_data",
          "data": {
            "text/plain": [
              "<Figure size 640x480 with 1 Axes>"
            ],
            "image/png": "[encoded data removed]"
          },
          "metadata": {}
        }
      ]
    },
    {
      "cell_type": "code",
      "source": [
        "score=model_ann1.evaluate(x_test,y_test,verbose=0)\n",
        "print(\"loss:\",score[0])\n",
        "print(\"acc:\",score[1])"
      ],
      "metadata": {
        "colab": {
          "base_uri": "https://localhost:8080/"
        },
        "id": "o1lgL0Xq3pQP",
        "outputId": "8d082030-fd5f-4d3c-bf29-e1cd5f8fd99b"
      },
      "execution_count": null,
      "outputs": [
        {
          "output_type": "stream",
          "name": "stdout",
          "text": [
            "loss: 0.1766168475151062\n",
            "acc: 0.9248499870300293\n"
          ]
        }
      ]
    },
    {
      "cell_type": "code",
      "source": [
        "y_pred=model_ann1.predict(x_test)\n",
        "y_pred=np.where(y_pred>0.5,1,0)\n",
        "print(y_test)\n",
        "print(y_pred)\n",
        "y_pred_class=np.argmax(y_pred,axis=1)\n",
        "y_test_class=np.argmax(y_test,axis=1)\n",
        "print(y_pred_class)\n",
        "print(y_pred_class.shape)\n",
        "print(y_test_class)\n",
        "print(y_test_class.shape)"
      ],
      "metadata": {
        "colab": {
          "base_uri": "https://localhost:8080/"
        },
        "id": "_pN45D5ImJSy",
        "outputId": "7b1b0a84-854f-4a76-9f91-835c7fc7ac36"
      },
      "execution_count": null,
      "outputs": [
        {
          "output_type": "stream",
          "name": "stdout",
          "text": [
            "625/625 [==============================] - 1s 2ms/step\n",
            "[[0. 1.]\n",
            " [1. 0.]\n",
            " [0. 1.]\n",
            " ...\n",
            " [0. 1.]\n",
            " [0. 1.]\n",
            " [1. 0.]]\n",
            "[[0 1]\n",
            " [1 0]\n",
            " [1 0]\n",
            " ...\n",
            " [0 1]\n",
            " [0 1]\n",
            " [1 0]]\n",
            "[1 0 0 ... 1 1 0]\n",
            "(20000,)\n",
            "[1 0 1 ... 1 1 0]\n",
            "(20000,)\n"
          ]
        }
      ]
    },
    {
      "cell_type": "code",
      "source": [
        "from sklearn.metrics import classification_report,confusion_matrix\n",
        "cr=classification_report(y_test_class,y_pred_class)\n",
        "print(cr)\n",
        "cm=confusion_matrix(y_test_class,y_pred_class)\n",
        "print(cm)"
      ],
      "metadata": {
        "colab": {
          "base_uri": "https://localhost:8080/"
        },
        "id": "oViy0orFmVpv",
        "outputId": "42a39f36-e6fb-488e-d832-13014d0f930b"
      },
      "execution_count": null,
      "outputs": [
        {
          "output_type": "stream",
          "name": "stdout",
          "text": [
            "              precision    recall  f1-score   support\n",
            "\n",
            "           0       0.95      0.90      0.92      9978\n",
            "           1       0.90      0.95      0.93     10022\n",
            "\n",
            "    accuracy                           0.92     20000\n",
            "   macro avg       0.93      0.92      0.92     20000\n",
            "weighted avg       0.93      0.92      0.92     20000\n",
            "\n",
            "[[8954 1024]\n",
            " [ 479 9543]]\n"
          ]
        }
      ]
    }
  ]
}